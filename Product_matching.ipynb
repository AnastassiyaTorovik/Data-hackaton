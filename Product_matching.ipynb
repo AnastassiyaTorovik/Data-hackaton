{
 "cells": [
  {
   "cell_type": "code",
   "execution_count": 1,
   "metadata": {},
   "outputs": [],
   "source": [
    "import pandas as pd\n",
    "import numpy as np\n",
    "import re\n",
    "import math\n",
    "import sys\n",
    "import warnings\n",
    "warnings.filterwarnings('ignore')"
   ]
  },
  {
   "cell_type": "code",
   "execution_count": 2,
   "metadata": {},
   "outputs": [],
   "source": [
    "## Loading Data\n",
    "# Main tables\n",
    "new=pd.read_excel('Produkty.xlsx')\n",
    "old=pd.read_excel('Artikly.xlsx')\n",
    "\n",
    "# Scraped data\n",
    "mcat=pd.read_csv('dataset_moda-category.csv')\n",
    "mprod=pd.read_csv('dataset_moda-product.csv')\n",
    "mdet=pd.read_csv('dataset_moda-detail.csv')\n",
    "scat=pd.read_csv('dataset_sport-category.csv')\n",
    "sprod=pd.read_csv('dataset_sport-product.csv')\n",
    "sdet=pd.read_csv('dataset_sport-detail.csv')"
   ]
  },
  {
   "cell_type": "code",
   "execution_count": 3,
   "metadata": {},
   "outputs": [],
   "source": [
    "#Concatenating scraped tables\n",
    "scr_cat = mcat.append(scat)\n",
    "scr_prod=mprod.append(sprod)\n",
    "scr_det=mdet.append(sdet)"
   ]
  },
  {
   "cell_type": "markdown",
   "metadata": {},
   "source": [
    "## Clients data"
   ]
  },
  {
   "cell_type": "code",
   "execution_count": 50,
   "metadata": {},
   "outputs": [],
   "source": [
    "#Setting data types and key columns parsing\n",
    "\n",
    "new['Produktový kód'] = new['Produktový kód'].str.extract('(\\d+)', expand=False)\n",
    "new.dropna(subset=['Produktový kód'])\n",
    "old.dropna(subset=['Kód výrobku'])\n",
    "old=old.convert_dtypes()\n",
    "old['Kód výrobku']=old['Kód výrobku'].astype(str)\n",
    "\n",
    "#Merging catalogs to add missing product name for new table\n",
    "\n",
    "prod=pd.merge(new,old, left_on=['Produktový kód'], right_on=['Kód výrobku'], how='left')\n",
    "prod['Název produktu'] = np.where(prod['Název produktu'] == '-1', prod['Popis výrobku'], prod['Název produktu'])"
   ]
  },
  {
   "cell_type": "code",
   "execution_count": 51,
   "metadata": {},
   "outputs": [],
   "source": [
    "#keep only items from recent years (>2017)\n",
    "\n",
    "prod['Rok']=prod['Sezóna_x'].str.extract('(\\d+)')\n",
    "prod['Rok']=[i.lstrip('0') for i in prod['Rok'].astype(str)]\n",
    "prod=prod[prod['Rok']!='nan']\n",
    "prod['Rok']=prod['Rok'].astype(int)\n",
    "prod=prod[prod['Rok']>17]\n"
   ]
  },
  {
   "cell_type": "code",
   "execution_count": 52,
   "metadata": {},
   "outputs": [],
   "source": [
    "# Splitting category info into separate columns\n",
    "\n",
    "cat_details = prod['Kategorie'].str.split('-', n=6, expand=True)\n",
    "prod['Material']=cat_details[0]\n",
    "prod['Sex']=cat_details[1]\n",
    "prod['Type']=cat_details[2]\n",
    "prod[\"Specification\"]=cat_details[3]\n",
    "prod[\"Other specification\"]=cat_details[4]"
   ]
  },
  {
   "cell_type": "code",
   "execution_count": 59,
   "metadata": {},
   "outputs": [],
   "source": [
    "#rename selected values\n",
    "prod[\"Sex\"] = prod[\"Sex\"].str.strip().replace({'PÁNSKÉ':'PANSKE','DÁMSKÉ':'DAMSKE','UNISEX DĚTSKÉ':'DETSKE','CHLAPECKÉ':'PANSKE', 'DÍVČÍ':'DAMSKE','UNISEX DOSPĚLÉ':'UNISEX'})"
   ]
  },
  {
   "cell_type": "markdown",
   "metadata": {},
   "source": [
    "## Scraped data"
   ]
  },
  {
   "cell_type": "code",
   "execution_count": 8,
   "metadata": {},
   "outputs": [],
   "source": [
    "#remove leading letter in product_id column and drop duplicated product codes\n",
    "scr_prod['product_id']=scr_prod['product_id'].str[1:]\n",
    "scr_prod=scr_prod.drop_duplicates(subset=['product_id'], keep='last', inplace=False)\n",
    "\n",
    "# Delete columns containing either 65% or more than 65% NaN Values \n",
    "perc = 65.0\n",
    "min_count =  int(((100-perc)/100)*scr_det.shape[0] + 1)\n",
    "scr_det = scr_det.dropna( axis=1, \n",
    "                thresh=min_count)"
   ]
  },
  {
   "cell_type": "code",
   "execution_count": 9,
   "metadata": {},
   "outputs": [],
   "source": [
    "#convert data types\n",
    "scr_det=scr_det.dropna(subset=['product_id'])\n",
    "scr_det.loc[:, ['product_name']]=scr_det.loc[:, ['product_name']].fillna('-')\n",
    "scr_det['product_id']=scr_det['product_id'].astype(str)"
   ]
  },
  {
   "cell_type": "code",
   "execution_count": 10,
   "metadata": {},
   "outputs": [],
   "source": [
    "#Reshape data frame using values from parameter_0_name columns as column headers and parameter_0_label as values\n",
    "scr_det_reshape=scr_det.pivot(index='product_id', columns='parameter/0/parameter_name', values='parameter/0/parameter_label').reset_index()\n",
    "scr_det_reshape = scr_det_reshape.rename_axis(None, axis=1) \n",
    "scr_det_reshape = scr_det_reshape.rename_axis(None, axis=0)\n",
    "scr_det_reshape=scr_det_reshape[['product_id', 'Výrobce', 'Výrobca', 'Značka']]\n",
    "scr_det_reshape['Výrobce']=np.where(scr_det_reshape['Výrobce'].isna(), scr_det_reshape['Výrobca'], scr_det_reshape['Výrobce'])"
   ]
  },
  {
   "cell_type": "code",
   "execution_count": 11,
   "metadata": {},
   "outputs": [],
   "source": [
    "#Reshape data frame using values from parameter_1_name columns as column headers and parameter_1_label as values\n",
    "scr_det_reshape1=scr_det.pivot(index='product_id', columns='parameter/1/parameter_name', values='parameter/1/parameter_label').reset_index()\n",
    "scr_det_reshape1 = scr_det_reshape1.rename_axis(None, axis=1) \n",
    "scr_det_reshape1 = scr_det_reshape1.rename_axis(None, axis=0)\n",
    "scr_det_reshape1=scr_det_reshape1[['product_id', 'Výrobce', 'Značka']]"
   ]
  },
  {
   "cell_type": "code",
   "execution_count": 12,
   "metadata": {},
   "outputs": [],
   "source": [
    "#Join reshaped tables\n",
    "scr_det_resh=pd.merge(scr_det_reshape, scr_det_reshape1, on='product_id', how='inner')\n",
    "scr_det_resh['Výrobce_x']=np.where(scr_det_resh['Výrobce_x'].isna(),scr_det_resh['Výrobce_y'], scr_det_resh['Výrobce_x'])\n",
    "scr_det_resh['Značka_x']=np.where(scr_det_resh['Značka_x'].isna(),scr_det_resh['Značka_y'], scr_det_resh['Značka_x'])\n",
    "scr_det_resh=scr_det_resh[['product_id', 'Výrobce_x','Značka_x']]\n",
    "scr_det_resh=scr_det_resh.rename(columns={\"Výrobce_x\": \"Výrobce\", \"Značka_x\": \"Značka\"})\n",
    "scr_det=scr_det[['product_id', 'product_name', 'product_url', 'category_name','category_tree']]\n",
    "scr_det=pd.merge(scr_det, scr_det_resh, on='product_id', how='inner')"
   ]
  },
  {
   "cell_type": "code",
   "execution_count": 13,
   "metadata": {},
   "outputs": [],
   "source": [
    "scr_cat=scr_cat.drop_duplicates(subset=['category_name'], keep='last', inplace=False)\n",
    "scr_det=pd.merge(scr_det, scr_cat, on='category_name', how='left')\n",
    "scr_det=scr_det.convert_dtypes()\n",
    "scr_det['product_id']=scr_det['product_id'].astype(str)\n",
    "scr_det['product_id']=scr_det['product_id'].str.replace('.0', '')\n",
    "scr_det=scr_det.drop(['category_tree_y'], axis=1)\n",
    "scr_det=scr_det.rename(columns={'category_tree_x':'category_tree'})"
   ]
  },
  {
   "cell_type": "code",
   "execution_count": 14,
   "metadata": {},
   "outputs": [],
   "source": [
    "#scraped data_final\n",
    "scr_prod=pd.merge(scr_prod, scr_det, on='product_id', how=\"left\")\n",
    "scr_prod=scr_prod.drop(['product_name_y','product_url_y'], axis=1)\n",
    "scr_prod=scr_prod.rename(columns={'product_name_x':'product_name', 'product_url_x':'product_url'})\n",
    "scr_prod['Značka'] = np.where(scr_prod['Značka'].isna(), scr_prod['Výrobce'], scr_prod['Značka'])\n",
    "scr_prod['Značka'] = scr_prod['Značka'].str.upper()"
   ]
  },
  {
   "cell_type": "code",
   "execution_count": 15,
   "metadata": {},
   "outputs": [],
   "source": [
    "#scraped df: function for url parsing with regex\n",
    "def parse_url(product_urls, re_string):\n",
    "    '''For a given product urls find give re_string a returns list of matches.'''\n",
    "    stor = []\n",
    "    for url in product_urls:\n",
    "        match = re.search(re_string, str(url))\n",
    "        if match is not None:\n",
    "            result = match.group(1)\n",
    "            stor.append(result)\n",
    "        else:\n",
    "            stor.append('')\n",
    "            \n",
    "    return stor"
   ]
  },
  {
   "cell_type": "code",
   "execution_count": 16,
   "metadata": {},
   "outputs": [],
   "source": [
    "def keep_shorter_then(val, n):\n",
    "    if len(val) > n:\n",
    "        return ''\n",
    "    else:\n",
    "        return val"
   ]
  },
  {
   "cell_type": "code",
   "execution_count": 17,
   "metadata": {},
   "outputs": [],
   "source": [
    "#scraped df: sex parsing using regex\n",
    "sex = parse_url(scr_prod['product_url'], '//(.*?)-')\n",
    "sex2 = parse_url(scr_prod['category_tree'], '(Dětské|Dámské|Pánské)')\n",
    "sex = pd.Series(sex).str.upper()\n",
    "sex2 = pd.Series(sex2).str.upper()\n",
    "sex = sex.apply(lambda x: keep_shorter_then(x, 6))\n",
    "scr_prod['sex'] = sex\n",
    "scr_prod['sex2'] = sex2\n",
    "scr_prod['sex'] = np.where(scr_prod['sex'].isin(['DAMSKE',\n",
    "'DETSKE',\n",
    "'PANSKE',\n",
    "'PANSKA', \n",
    "'DAMSKA']), scr_prod['sex'], None)\n",
    "# Enlarging dataset\n",
    "scr_prod['sex'] = np.where(scr_prod['sex'].isna(), scr_prod['sex2'], scr_prod['sex'])\n",
    "scr_prod=scr_prod.drop(columns=['sex2'])\n",
    "scr_prod['sex'] = scr_prod['sex'].replace({'PANSKA':'PANSKE', 'DAMSKA':'DAMSKE','DĚTSKÉ':'DETSKE','DÁMSKÉ':'DAMSKE'})"
   ]
  },
  {
   "cell_type": "code",
   "execution_count": null,
   "metadata": {},
   "outputs": [],
   "source": []
  }
 ],
 "metadata": {
  "kernelspec": {
   "display_name": "Python 3",
   "language": "python",
   "name": "python3"
  },
  "language_info": {
   "codemirror_mode": {
    "name": "ipython",
    "version": 3
   },
   "file_extension": ".py",
   "mimetype": "text/x-python",
   "name": "python",
   "nbconvert_exporter": "python",
   "pygments_lexer": "ipython3",
   "version": "3.7.4"
  }
 },
 "nbformat": 4,
 "nbformat_minor": 2
}
